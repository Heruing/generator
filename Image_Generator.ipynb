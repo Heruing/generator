{
 "cells": [
  {
   "cell_type": "code",
   "execution_count": 1,
   "metadata": {},
   "outputs": [],
   "source": [
    "import os\n",
    "from generate import generate\n",
    "from drawer import image_generate\n",
    "import json"
   ]
  },
  {
   "cell_type": "code",
   "execution_count": 2,
   "metadata": {},
   "outputs": [],
   "source": [
    "for dir in ['results', 'results/images']:\n",
    "    os.makedirs(dir, exist_ok=True)\n",
    "\n",
    "idx = len(os.listdir('results/images'))\n",
    "if idx:\n",
    "    with open('results/info.json', 'r') as j:\n",
    "        json_object = json.load(j)\n",
    "else:\n",
    "    with open('sample.json', 'r') as j:\n",
    "        json_object = json.load(j)\n",
    "\n",
    "\n",
    "# number of make images\n",
    "number = 1000\n",
    "for _ in range(number):\n",
    "    info = generate()\n",
    "    image, image_info, width, height = image_generate(info)\n",
    "    json_object[\"images\"].append({\"width\": width, \"height\": height, \"file\":f\"{idx:04}.png\", \"id\": idx})\n",
    "    annotation = {\"image_id\":idx, \"ocr\":{\"word\":image_info}}\n",
    "    json_object[\"annotations\"].append(annotation)\n",
    "    image.save(f'results/images/{idx:04}.png')\n",
    "    idx += 1\n",
    "\n",
    "with open('results/info.json', 'w') as j:\n",
    "    json_string = json.dump(json_object,j, indent=2, ensure_ascii=False)"
   ]
  },
  {
   "cell_type": "code",
   "execution_count": null,
   "metadata": {},
   "outputs": [],
   "source": []
  }
 ],
 "metadata": {
  "interpreter": {
   "hash": "3a98d37bd43be7732ff55c466e906cf3afa807b58eb4d146efb1039af9afb01f"
  },
  "kernelspec": {
   "display_name": "Python 3.9.7 ('base')",
   "language": "python",
   "name": "python3"
  },
  "language_info": {
   "codemirror_mode": {
    "name": "ipython",
    "version": 3
   },
   "file_extension": ".py",
   "mimetype": "text/x-python",
   "name": "python",
   "nbconvert_exporter": "python",
   "pygments_lexer": "ipython3",
   "version": "3.9.7"
  },
  "orig_nbformat": 4
 },
 "nbformat": 4,
 "nbformat_minor": 2
}
